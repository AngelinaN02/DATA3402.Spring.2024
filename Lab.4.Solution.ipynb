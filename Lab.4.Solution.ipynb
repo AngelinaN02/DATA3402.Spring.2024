{
 "cells": [
  {
   "cell_type": "markdown",
   "metadata": {},
   "source": [
    "# Lab 4- Object Oriented Programming\n",
    "\n",
    "For all of the exercises below, make sure you provide tests of your solutions.\n"
   ]
  },
  {
   "cell_type": "markdown",
   "metadata": {},
   "source": [
    "1. Write a \"counter\" class that can be incremented up to a specified maximum value, will print an error if an attempt is made to increment beyond that value, and allows reseting the counter. "
   ]
  },
  {
   "cell_type": "code",
   "execution_count": 3,
   "metadata": {},
   "outputs": [],
   "source": [
    "class Counter:\n",
    "    def __init__(self,maximum):\n",
    "        self.maximum = maximum\n",
    "        self.value = 0\n",
    "\n",
    "    def increment(self):\n",
    "        if self.value < self.maximum:\n",
    "            self.value += 1\n",
    "        else:\n",
    "            print(\"Error: Counter reached maximum value.\")\n",
    "\n",
    "    def reset(self):\n",
    "        self.value = 0\n",
    "\n",
    "    def get_value(self):\n",
    "        return self.value"
   ]
  },
  {
   "cell_type": "code",
   "execution_count": 5,
   "metadata": {},
   "outputs": [
    {
     "name": "stdout",
     "output_type": "stream",
     "text": [
      "Current value: 1\n",
      "Current value: 2\n",
      "Current value: 3\n",
      "Current value: 4\n",
      "Current value: 5\n",
      "Error: Counter reached maximum value.\n",
      "Current value: 5\n",
      "Error: Counter reached maximum value.\n",
      "Current value: 5\n",
      "Counter reset. Current value: 0\n"
     ]
    }
   ],
   "source": [
    "# test solution\n",
    "max_value = 5 \n",
    "counter = Counter(max_value)\n",
    "\n",
    "for _ in range(max_value + 2):\n",
    "    counter.increment()\n",
    "    print(\"Current value:\", counter.get_value())\n",
    "\n",
    "counter.reset()\n",
    "print(\"Counter reset. Current value:\", counter.get_value())"
   ]
  },
  {
   "cell_type": "markdown",
   "metadata": {},
   "source": [
    "2. Copy and paste your solution to question 1 and modify it so that all the data held by the counter is private. Implement functions to check the value of the counter, check the maximum value, and check if the counter is at the maximum."
   ]
  },
  {
   "cell_type": "code",
   "execution_count": 6,
   "metadata": {},
   "outputs": [],
   "source": [
    "class Counter:\n",
    "    def __init__(self, maximum):\n",
    "        self.__maximum = maximum\n",
    "        self.__value = 0\n",
    "\n",
    "    def increment(self):\n",
    "        if self.__value < self.__maximum:\n",
    "            self.__value += 1\n",
    "        else:\n",
    "            print(\"Error: Counter reached maximum value.\")\n",
    "    \n",
    "    def reset(self):\n",
    "        self.__value = 0\n",
    "\n",
    "    def get_value(self):\n",
    "        return self.__value\n",
    "    \n",
    "    def get_maximum(self):\n",
    "        return self.__maximum\n",
    "    \n",
    "    def is_at_maximum(self):\n",
    "        return self.__value == self.__maximum"
   ]
  },
  {
   "cell_type": "code",
   "execution_count": 7,
   "metadata": {},
   "outputs": [
    {
     "name": "stdout",
     "output_type": "stream",
     "text": [
      "Current value: 1\n",
      "Is at maximum: False\n",
      "Current value: 2\n",
      "Is at maximum: False\n",
      "Current value: 3\n",
      "Is at maximum: False\n",
      "Current value: 4\n",
      "Is at maximum: False\n",
      "Current value: 5\n",
      "Is at maximum: True\n",
      "Error: Counter reached maximum value.\n",
      "Current value: 5\n",
      "Is at maximum: True\n",
      "Error: Counter reached maximum value.\n",
      "Current value: 5\n",
      "Is at maximum: True\n",
      "Counter reset. Current value: 0\n",
      "Maximum value: 5\n"
     ]
    }
   ],
   "source": [
    "max_value = 5\n",
    "counter = Counter(max_value)\n",
    "\n",
    "for _ in range(max_value + 2):\n",
    "    counter.increment()\n",
    "    print(\"Current value:\", counter.get_value())\n",
    "    print(\"Is at maximum:\", counter.is_at_maximum())\n",
    "\n",
    "counter.reset()\n",
    "print(\"Counter reset. Current value:\", counter.get_value())\n",
    "print(\"Maximum value:\", counter.get_maximum())"
   ]
  },
  {
   "cell_type": "markdown",
   "metadata": {},
   "source": [
    "3. Implement a class to represent a rectangle, holding the length, width, and $x$ and $y$ coordinates of a corner of the object. Implement functions that compute the area and perimeter of the rectangle. Make all data members private and privide accessors to retrieve values of data members. "
   ]
  },
  {
   "cell_type": "code",
   "execution_count": 8,
   "metadata": {},
   "outputs": [],
   "source": [
    "class Rectangle:\n",
    "    def __init__(self, length, width, corner_x, corner_y):\n",
    "        self.__length = length\n",
    "        self.__width = width\n",
    "        self.__corner_x = corner_x\n",
    "        self.__corner_y = corner_y\n",
    "\n",
    "    def get_length(self):\n",
    "        return self.__length\n",
    "\n",
    "    def get_width(self):\n",
    "        return self.__width\n",
    "\n",
    "    def get_corner(self):\n",
    "        return self.__corner_x, self.__corner_y\n",
    "\n",
    "    def set_length(self, length):\n",
    "        self.__length = length\n",
    "\n",
    "    def set_width(self, width):\n",
    "        self.__width = width\n",
    "\n",
    "    def set_corner(self, corner_x, corner_y):\n",
    "        self.__corner_x = corner_x\n",
    "        self.__corner_y = corner_y\n",
    "\n",
    "    def area(self):\n",
    "        return self.__length * self.__width\n",
    "\n",
    "    def perimeter(self):\n",
    "        return 2 * (self.__length + self.__width)"
   ]
  },
  {
   "cell_type": "code",
   "execution_count": 9,
   "metadata": {},
   "outputs": [
    {
     "name": "stdout",
     "output_type": "stream",
     "text": [
      "Length: 5\n",
      "Width: 3\n",
      "Corner Coordinates: (0, 0)\n",
      "Area: 15\n",
      "Perimeter: 16\n"
     ]
    }
   ],
   "source": [
    "rectangle = Rectangle(5, 3, 0, 0)\n",
    "print(\"Length:\", rectangle.get_length())\n",
    "print(\"Width:\", rectangle.get_width())\n",
    "print(\"Corner Coordinates:\", rectangle.get_corner())\n",
    "print(\"Area:\", rectangle.area())\n",
    "print(\"Perimeter:\", rectangle.perimeter())"
   ]
  },
  {
   "cell_type": "markdown",
   "metadata": {},
   "source": [
    "4. Implement a class to represent a circle, holding the radius and $x$ and $y$ coordinates of center of the object. Implement functions that compute the area and perimeter of the rectangle. Make all data members private and privide accessors to retrieve values of data members. "
   ]
  },
  {
   "cell_type": "code",
   "execution_count": 10,
   "metadata": {},
   "outputs": [],
   "source": [
    "import math\n",
    "\n",
    "class Circle:\n",
    "    def __init__(self, radius, center_x, center_y):\n",
    "        self.__radius = radius\n",
    "        self.__center_x = center_x\n",
    "        self.__center_y = center_y\n",
    "\n",
    "    def get_radius(self):\n",
    "        return self.__radius\n",
    "\n",
    "    def get_center(self):\n",
    "        return self.__center_x, self.__center_y\n",
    "\n",
    "    def set_radius(self, radius):\n",
    "        self.__radius = radius\n",
    "\n",
    "    def set_center(self, center_x, center_y):\n",
    "        self.__center_x = center_x\n",
    "        self.__center_y = center_y\n",
    "\n",
    "    def area(self):\n",
    "        return math.pi * self.__radius ** 2\n",
    "\n",
    "    def perimeter(self):\n",
    "        return 2 * math.pi * self.__radius"
   ]
  },
  {
   "cell_type": "code",
   "execution_count": 11,
   "metadata": {},
   "outputs": [
    {
     "name": "stdout",
     "output_type": "stream",
     "text": [
      "Radius: 5\n",
      "Center Coordinates: (0, 0)\n",
      "Area: 78.53981633974483\n",
      "Perimeter: 31.41592653589793\n"
     ]
    }
   ],
   "source": [
    "circle = Circle(5, 0, 0)\n",
    "print(\"Radius:\", circle.get_radius())\n",
    "print(\"Center Coordinates:\", circle.get_center())\n",
    "print(\"Area:\", circle.area())\n",
    "print(\"Perimeter:\", circle.perimeter())"
   ]
  },
  {
   "cell_type": "markdown",
   "metadata": {},
   "source": [
    "5. Implement a common base class for the classes implemented in 3 and 4 above which implements all common methods as not implemented functions (virtual). Re-implement those classes to inherit from the base class and overload the functions accordingly. "
   ]
  },
  {
   "cell_type": "code",
   "execution_count": 14,
   "metadata": {},
   "outputs": [],
   "source": [
    "import math\n",
    "\n",
    "class Shape:\n",
    "    def __init__(self, *args):\n",
    "        pass\n",
    "\n",
    "    def area(self):\n",
    "        raise NotImplementedError(\"Area calculation not implemented for this shape.\")\n",
    "\n",
    "    def perimeter(self):\n",
    "        raise NotImplementedError(\"Perimeter calculation not implemented for this shape.\")\n",
    "\n",
    "    def get_center(self):\n",
    "        raise NotImplementedError(\"Center coordinates not implemented for this shape.\")\n",
    "\n",
    "\n",
    "class Rectangle(Shape):\n",
    "    def __init__(self, length, width, corner_x, corner_y):\n",
    "        super().__init__()\n",
    "        self.__length = length\n",
    "        self.__width = width\n",
    "        self.__corner_x = corner_x\n",
    "        self.__corner_y = corner_y\n",
    "\n",
    "    def area(self):\n",
    "        return self.__length * self.__width\n",
    "\n",
    "    def perimeter(self):\n",
    "        return 2 * (self.__length + self.__width)\n",
    "\n",
    "    def get_center(self):\n",
    "        return self.__corner_x + self.__length / 2, self.__corner_y + self.__width / 2\n",
    "\n",
    "\n",
    "class Circle(Shape):\n",
    "    def __init__(self, radius, center_x, center_y):\n",
    "        super().__init__()\n",
    "        self.__radius = radius\n",
    "        self.__center_x = center_x\n",
    "        self.__center_y = center_y\n",
    "\n",
    "    def area(self):\n",
    "        return math.pi * self.__radius ** 2\n",
    "\n",
    "    def perimeter(self):\n",
    "        return 2 * math.pi * self.__radius\n",
    "\n",
    "    def get_center(self):\n",
    "        return self.__center_x, self.__center_y"
   ]
  },
  {
   "cell_type": "code",
   "execution_count": 15,
   "metadata": {},
   "outputs": [
    {
     "name": "stdout",
     "output_type": "stream",
     "text": [
      "Rectangle Area: 15\n",
      "Rectangle Perimeter: 16\n",
      "Rectangle Center Coordinates: (2.5, 1.5)\n",
      "\n",
      "Circle Area: 78.53981633974483\n",
      "Circle Perimeter: 31.41592653589793\n",
      "Circle Center Coordinates: (0, 0)\n"
     ]
    }
   ],
   "source": [
    "rectangle = Rectangle(5, 3, 0, 0)\n",
    "print(\"Rectangle Area:\", rectangle.area())\n",
    "print(\"Rectangle Perimeter:\", rectangle.perimeter())\n",
    "print(\"Rectangle Center Coordinates:\", rectangle.get_center())\n",
    "\n",
    "circle = Circle(5, 0, 0)\n",
    "print(\"\\nCircle Area:\", circle.area())\n",
    "print(\"Circle Perimeter:\", circle.perimeter())\n",
    "print(\"Circle Center Coordinates:\", circle.get_center())"
   ]
  },
  {
   "cell_type": "markdown",
   "metadata": {},
   "source": [
    "6. Implement an analogous triangle class."
   ]
  },
  {
   "cell_type": "code",
   "execution_count": 16,
   "metadata": {},
   "outputs": [],
   "source": [
    "import math\n",
    "\n",
    "class Triangle(Shape):\n",
    "    def __init__(self, side1, side2, side3, vertex1_x, vertex1_y, vertex2_x, vertex2_y, vertex3_x, vertex3_y):\n",
    "        super().__init__()\n",
    "        self.__side1 = side1\n",
    "        self.__side2 = side2\n",
    "        self.__side3 = side3\n",
    "        self.__vertex1_x = vertex1_x\n",
    "        self.__vertex1_y = vertex1_y\n",
    "        self.__vertex2_x = vertex2_x\n",
    "        self.__vertex2_y = vertex2_y\n",
    "        self.__vertex3_x = vertex3_x\n",
    "        self.__vertex3_y = vertex3_y\n",
    "\n",
    "    def area(self):\n",
    "        # Using Heron's formula to calculate the area of the triangle\n",
    "        s = (self.__side1 + self.__side2 + self.__side3) / 2\n",
    "        return math.sqrt(s * (s - self.__side1) * (s - self.__side2) * (s - self.__side3))\n",
    "\n",
    "    def perimeter(self):\n",
    "        return self.__side1 + self.__side2 + self.__side3\n",
    "\n",
    "    def get_center(self):\n",
    "        center_x = (self.__vertex1_x + self.__vertex2_x + self.__vertex3_x) / 3\n",
    "        center_y = (self.__vertex1_y + self.__vertex2_y + self.__vertex3_y) / 3\n",
    "        return center_x, center_y"
   ]
  },
  {
   "cell_type": "code",
   "execution_count": 17,
   "metadata": {},
   "outputs": [
    {
     "name": "stdout",
     "output_type": "stream",
     "text": [
      "Triangle Area: 6.0\n",
      "Triangle Perimeter: 12\n",
      "Triangle Center Coordinates: (1.0, 1.3333333333333333)\n"
     ]
    }
   ],
   "source": [
    "triangle = Triangle(3, 4, 5, 0, 0, 3, 0, 0, 4)\n",
    "print(\"Triangle Area:\", triangle.area())\n",
    "print(\"Triangle Perimeter:\", triangle.perimeter())\n",
    "print(\"Triangle Center Coordinates:\", triangle.get_center())"
   ]
  },
  {
   "cell_type": "markdown",
   "metadata": {},
   "source": [
    "7. Add a function to the object classes that tests if a given set of $x$ and $y$ coordinates are inside of the object."
   ]
  },
  {
   "cell_type": "code",
   "execution_count": 18,
   "metadata": {},
   "outputs": [
    {
     "name": "stdout",
     "output_type": "stream",
     "text": [
      "Point (2, 2) is inside the rectangle: True\n",
      "Point (6, 4) is inside the rectangle: False\n",
      "\n",
      "Point (3, 3) is inside the circle: True\n",
      "Point (6, 6) is inside the circle: False\n",
      "\n",
      "Point (1, 1) is inside the triangle: True\n",
      "Point (4, 2) is inside the triangle: False\n"
     ]
    }
   ],
   "source": [
    "import math\n",
    "\n",
    "class Shape:\n",
    "    def __init__(self, *args):\n",
    "        pass\n",
    "\n",
    "    def area(self):\n",
    "        raise NotImplementedError(\"Area calculation not implemented for this shape.\")\n",
    "\n",
    "    def perimeter(self):\n",
    "        raise NotImplementedError(\"Perimeter calculation not implemented for this shape.\")\n",
    "\n",
    "    def get_center(self):\n",
    "        raise NotImplementedError(\"Center coordinates not implemented for this shape.\")\n",
    "\n",
    "    def is_point_inside(self, x, y):\n",
    "        raise NotImplementedError(\"Point checking not implemented for this shape.\")\n",
    "\n",
    "\n",
    "class Rectangle(Shape):\n",
    "    def __init__(self, length, width, corner_x, corner_y):\n",
    "        super().__init__()\n",
    "        self.__length = length\n",
    "        self.__width = width\n",
    "        self.__corner_x = corner_x\n",
    "        self.__corner_y = corner_y\n",
    "\n",
    "    def area(self):\n",
    "        return self.__length * self.__width\n",
    "\n",
    "    def perimeter(self):\n",
    "        return 2 * (self.__length + self.__width)\n",
    "\n",
    "    def get_center(self):\n",
    "        return self.__corner_x + self.__length / 2, self.__corner_y + self.__width / 2\n",
    "\n",
    "    def is_point_inside(self, x, y):\n",
    "        return self.__corner_x <= x <= self.__corner_x + self.__length and \\\n",
    "               self.__corner_y <= y <= self.__corner_y + self.__width\n",
    "\n",
    "\n",
    "class Circle(Shape):\n",
    "    def __init__(self, radius, center_x, center_y):\n",
    "        super().__init__()\n",
    "        self.__radius = radius\n",
    "        self.__center_x = center_x\n",
    "        self.__center_y = center_y\n",
    "\n",
    "    def area(self):\n",
    "        return math.pi * self.__radius ** 2\n",
    "\n",
    "    def perimeter(self):\n",
    "        return 2 * math.pi * self.__radius\n",
    "\n",
    "    def get_center(self):\n",
    "        return self.__center_x, self.__center_y\n",
    "\n",
    "    def is_point_inside(self, x, y):\n",
    "        distance = math.sqrt((x - self.__center_x) ** 2 + (y - self.__center_y) ** 2)\n",
    "        return distance <= self.__radius\n",
    "\n",
    "\n",
    "class Triangle(Shape):\n",
    "    def __init__(self, side1, side2, side3, vertex1_x, vertex1_y, vertex2_x, vertex2_y, vertex3_x, vertex3_y):\n",
    "        super().__init__()\n",
    "        self.__side1 = side1\n",
    "        self.__side2 = side2\n",
    "        self.__side3 = side3\n",
    "        self.__vertex1_x = vertex1_x\n",
    "        self.__vertex1_y = vertex1_y\n",
    "        self.__vertex2_x = vertex2_x\n",
    "        self.__vertex2_y = vertex2_y\n",
    "        self.__vertex3_x = vertex3_x\n",
    "        self.__vertex3_y = vertex3_y\n",
    "\n",
    "    def area(self):\n",
    "        s = (self.__side1 + self.__side2 + self.__side3) / 2\n",
    "        return math.sqrt(s * (s - self.__side1) * (s - self.__side2) * (s - self.__side3))\n",
    "\n",
    "    def perimeter(self):\n",
    "        return self.__side1 + self.__side2 + self.__side3\n",
    "\n",
    "    def get_center(self):\n",
    "        center_x = (self.__vertex1_x + self.__vertex2_x + self.__vertex3_x) / 3\n",
    "        center_y = (self.__vertex1_y + self.__vertex2_y + self.__vertex3_y) / 3\n",
    "        return center_x, center_y\n",
    "\n",
    "    def is_point_inside(self, x, y):\n",
    "        # Check if the point (x, y) is inside the triangle using barycentric coordinates\n",
    "        denominator = (self.__vertex2_y - self.__vertex3_y) * (self.__vertex1_x - self.__vertex3_x) + \\\n",
    "                      (self.__vertex3_x - self.__vertex2_x) * (self.__vertex1_y - self.__vertex3_y)\n",
    "\n",
    "        s = ((self.__vertex2_y - self.__vertex3_y) * (x - self.__vertex3_x) +\n",
    "             (self.__vertex3_x - self.__vertex2_x) * (y - self.__vertex3_y)) / denominator\n",
    "        t = ((self.__vertex3_y - self.__vertex1_y) * (x - self.__vertex3_x) +\n",
    "             (self.__vertex1_x - self.__vertex3_x) * (y - self.__vertex3_y)) / denominator\n",
    "\n",
    "        return 0 <= s <= 1 and 0 <= t <= 1 and s + t <= 1\n",
    "\n",
    "rectangle = Rectangle(5, 3, 0, 0)\n",
    "print(\"Point (2, 2) is inside the rectangle:\", rectangle.is_point_inside(2, 2))\n",
    "print(\"Point (6, 4) is inside the rectangle:\", rectangle.is_point_inside(6, 4))\n",
    "\n",
    "circle = Circle(5, 0, 0)\n",
    "print(\"\\nPoint (3, 3) is inside the circle:\", circle.is_point_inside(3, 3))\n",
    "print(\"Point (6, 6) is inside the circle:\", circle.is_point_inside(6, 6))\n",
    "\n",
    "triangle = Triangle(3, 4, 5, 0, 0, 3, 0, 0, 4)\n",
    "print(\"\\nPoint (1, 1) is inside the triangle:\", triangle.is_point_inside(1, 1))\n",
    "print(\"Point (4, 2) is inside the triangle:\", triangle.is_point_inside(4, 2))\n"
   ]
  },
  {
   "cell_type": "markdown",
   "metadata": {},
   "source": [
    "8. Add a function to the object classes that return a list of up to 16 pairs of  $x$ and $y$ points on the parameter of the object.\n",
    "\n"
   ]
  },
  {
   "cell_type": "code",
   "execution_count": 19,
   "metadata": {},
   "outputs": [
    {
     "name": "stdout",
     "output_type": "stream",
     "text": [
      "Circle Parameter Points: [(5.0, 0.0), (4.619397662556434, 1.913417161825449), (3.5355339059327378, 3.5355339059327373), (1.9134171618254492, 4.619397662556434), (3.061616997868383e-16, 5.0), (-1.9134171618254485, 4.619397662556434), (-3.5355339059327373, 3.5355339059327378), (-4.619397662556434, 1.9134171618254494), (-5.0, 6.123233995736766e-16), (-4.619397662556434, -1.9134171618254483), (-3.5355339059327386, -3.5355339059327373), (-1.9134171618254516, -4.619397662556432), (-9.184850993605148e-16, -5.0), (1.91341716182545, -4.619397662556433), (3.535533905932737, -3.5355339059327386), (4.619397662556432, -1.913417161825452)]\n",
      "Square Parameter Points: [(0.0, 0), (1.5, 0), (3.0, 0), (4.5, 0), (6, 0.0), (6, 1.5), (6, 3.0), (6, 4.5), (6.0, 6), (4.5, 6), (3.0, 6), (1.5, 6), (0, 6.0), (0, 4.5), (0, 3.0), (0, 1.5)]\n"
     ]
    }
   ],
   "source": [
    "import math\n",
    "\n",
    "class Circle:\n",
    "    def __init__(self, radius):\n",
    "        self.radius = radius\n",
    "\n",
    "    def parameter_points(self, num_points=16):\n",
    "        points = []\n",
    "        for i in range(num_points):\n",
    "            angle = 2 * math.pi * i / num_points\n",
    "            x = self.radius * math.cos(angle)\n",
    "            y = self.radius * math.sin(angle)\n",
    "            points.append((x, y))\n",
    "        return points\n",
    "\n",
    "class Square:\n",
    "    def __init__(self, side_length):\n",
    "        self.side_length = side_length\n",
    "\n",
    "    def parameter_points(self, num_points=16):\n",
    "        points = []\n",
    "        # Assuming starting from bottom-left corner and going clockwise\n",
    "        for i in range(num_points // 4):  # Only need 4 points for a square\n",
    "            x = i * self.side_length / (num_points // 4)\n",
    "            y = 0\n",
    "            points.append((x, y))\n",
    "        for i in range(num_points // 4):\n",
    "            x = self.side_length\n",
    "            y = i * self.side_length / (num_points // 4)\n",
    "            points.append((x, y))\n",
    "        for i in range(num_points // 4):\n",
    "            x = self.side_length - i * self.side_length / (num_points // 4)\n",
    "            y = self.side_length\n",
    "            points.append((x, y))\n",
    "        for i in range(num_points // 4):\n",
    "            x = 0\n",
    "            y = self.side_length - i * self.side_length / (num_points // 4)\n",
    "            points.append((x, y))\n",
    "        return points\n",
    "\n",
    "\n",
    "circle = Circle(5)\n",
    "print(\"Circle Parameter Points:\", circle.parameter_points())\n",
    "\n",
    "square = Square(6)\n",
    "print(\"Square Parameter Points:\", square.parameter_points())\n"
   ]
  },
  {
   "cell_type": "markdown",
   "metadata": {},
   "source": [
    "9. Add a function in the base class of the object classes that returns true/false testing that the object overlaps with another object."
   ]
  },
  {
   "cell_type": "code",
   "execution_count": 20,
   "metadata": {},
   "outputs": [
    {
     "name": "stdout",
     "output_type": "stream",
     "text": [
      "Circles overlap? False\n",
      "Squares overlap? True\n"
     ]
    }
   ],
   "source": [
    "class Shape:\n",
    "    def overlaps(self, other):\n",
    "        raise NotImplementedError(\"overlaps method not implemented in base class Shape\")\n",
    "\n",
    "class Circle(Shape):\n",
    "    def __init__(self, radius, x=0, y=0):\n",
    "        self.radius = radius\n",
    "        self.x = x\n",
    "        self.y = y\n",
    "\n",
    "    def overlaps(self, other):\n",
    "        if isinstance(other, Circle):\n",
    "            distance_squared = (self.x - other.x)**2 + (self.y - other.y)**2\n",
    "            return distance_squared < (self.radius + other.radius)**2\n",
    "        elif isinstance(other, Square):\n",
    "            # For simplicity, we'll approximate the square as a circle with a radius equal to half its diagonal\n",
    "            square_diagonal = other.side_length * math.sqrt(2)\n",
    "            combined_radius = self.radius + (square_diagonal / 2)\n",
    "            distance_squared = (self.x - other.x)**2 + (self.y - other.y)**2\n",
    "            return distance_squared < combined_radius**2\n",
    "        else:\n",
    "            raise TypeError(\"Unsupported type for overlaps method\")\n",
    "\n",
    "class Square(Shape):\n",
    "    def __init__(self, side_length, x=0, y=0):\n",
    "        self.side_length = side_length\n",
    "        self.x = x\n",
    "        self.y = y\n",
    "\n",
    "    def overlaps(self, other):\n",
    "        if isinstance(other, Square):\n",
    "            return not (self.x + self.side_length < other.x or\n",
    "                        other.x + other.side_length < self.x or\n",
    "                        self.y + self.side_length < other.y or\n",
    "                        other.y + other.side_length < self.y)\n",
    "        elif isinstance(other, Circle):\n",
    "            square_diagonal = self.side_length * math.sqrt(2)\n",
    "            combined_radius = (other.radius + (square_diagonal / 2))\n",
    "            distance_squared = (self.x - other.x)**2 + (self.y - other.y)**2\n",
    "            return distance_squared < combined_radius**2\n",
    "        else:\n",
    "            raise TypeError(\"Unsupported type for overlaps method\")\n",
    "circle1 = Circle(5, 0, 0)\n",
    "circle2 = Circle(3, 8, 0)\n",
    "print(\"Circles overlap?\", circle1.overlaps(circle2))\n",
    "\n",
    "square1 = Square(6, 0, 0)\n",
    "square2 = Square(4, 5, 0)\n",
    "print(\"Squares overlap?\", square1.overlaps(square2))"
   ]
  },
  {
   "cell_type": "markdown",
   "metadata": {},
   "source": [
    "10. Copy the `Canvas` class from lecture to in a python file creating a `paint` module. Copy your classes from above into the module and implement paint functions. Implement a `CompoundShape` class. Create a simple drawing demonstrating that all of your classes are working."
   ]
  },
  {
   "cell_type": "code",
   "execution_count": null,
   "metadata": {},
   "outputs": [],
   "source": []
  },
  {
   "cell_type": "markdown",
   "metadata": {},
   "source": [
    "11. Create a `RasterDrawing` class. Demonstrate that you can create a drawing made of several shapes, paint the drawing, modify the drawing, and paint it again. "
   ]
  },
  {
   "cell_type": "code",
   "execution_count": null,
   "metadata": {},
   "outputs": [],
   "source": []
  },
  {
   "cell_type": "markdown",
   "metadata": {},
   "source": [
    "12. Implement the ability to load/save raster drawings and demonstate that your method works. One way to implement this ability:\n",
    "\n",
    "   * Overload `__repr__` functions of all objects to return strings of the python code that would construct the object.\n",
    "   \n",
    "   * In the save method of raster drawing class, store the representations into the file.\n",
    "   * Write a loader function that reads the file and uses `eval` to instantiate the object.\n",
    "\n",
    "For example:"
   ]
  },
  {
   "cell_type": "code",
   "execution_count": 1,
   "metadata": {},
   "outputs": [],
   "source": [
    "class foo:\n",
    "    def __init__(self,a,b=None):\n",
    "        self.a=a\n",
    "        self.b=b\n",
    "        \n",
    "    def __repr__(self):\n",
    "        return \"foo(\"+repr(self.a)+\",\"+repr(self.b)+\")\"\n",
    "    \n",
    "    def save(self,filename):\n",
    "        f=open(filename,\"w\")\n",
    "        f.write(self.__repr__())\n",
    "        f.close()\n",
    "        \n",
    "   \n",
    "def foo_loader(filename):\n",
    "    f=open(filename,\"r\")\n",
    "    tmp=eval(f.read())\n",
    "    f.close()\n",
    "    return tmp\n"
   ]
  },
  {
   "cell_type": "code",
   "execution_count": 2,
   "metadata": {},
   "outputs": [
    {
     "name": "stdout",
     "output_type": "stream",
     "text": [
      "foo(1,'hello')\n"
     ]
    }
   ],
   "source": [
    "# Test\n",
    "print(repr(foo(1,\"hello\")))"
   ]
  },
  {
   "cell_type": "code",
   "execution_count": 3,
   "metadata": {},
   "outputs": [],
   "source": [
    "# Create an object and save it\n",
    "ff=foo(1,\"hello\")\n",
    "ff.save(\"Test.foo\")"
   ]
  },
  {
   "cell_type": "code",
   "execution_count": 4,
   "metadata": {},
   "outputs": [
    {
     "name": "stdout",
     "output_type": "stream",
     "text": [
      "foo(1,'hello')"
     ]
    }
   ],
   "source": [
    "# Check contents of the saved file\n",
    "!cat Test.foo"
   ]
  },
  {
   "cell_type": "code",
   "execution_count": 5,
   "metadata": {},
   "outputs": [
    {
     "data": {
      "text/plain": [
       "foo(1,'hello')"
      ]
     },
     "execution_count": 5,
     "metadata": {},
     "output_type": "execute_result"
    }
   ],
   "source": [
    "# Load the object\n",
    "ff_reloaded=foo_loader(\"Test.foo\")\n",
    "ff_reloaded"
   ]
  },
  {
   "cell_type": "code",
   "execution_count": null,
   "metadata": {},
   "outputs": [],
   "source": []
  },
  {
   "cell_type": "code",
   "execution_count": null,
   "metadata": {},
   "outputs": [],
   "source": []
  }
 ],
 "metadata": {
  "kernelspec": {
   "display_name": "Python 3 (ipykernel)",
   "language": "python",
   "name": "python3"
  },
  "language_info": {
   "codemirror_mode": {
    "name": "ipython",
    "version": 3
   },
   "file_extension": ".py",
   "mimetype": "text/x-python",
   "name": "python",
   "nbconvert_exporter": "python",
   "pygments_lexer": "ipython3",
   "version": "3.10.12"
  }
 },
 "nbformat": 4,
 "nbformat_minor": 4
}
