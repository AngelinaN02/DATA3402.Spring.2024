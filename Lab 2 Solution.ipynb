{
 "cells": [
  {
   "cell_type": "markdown",
   "metadata": {},
   "source": [
    "## Lab 2- Tic Tac Toe\n",
    "\n",
    "In this lab your will build a n x n Tic Tac Toe game. As you do the exercises, make sure your solutions work for any size Tic Tac Toe game. "
   ]
  },
  {
   "cell_type": "markdown",
   "metadata": {},
   "source": [
    "*Exercise 1:* Write a function that creates an n by n matrix (of list of lists) which will represent the state of a Tie Tac Toe game. Let 0, 1, and 2 represent empty, \"X\", and \"O\", respectively.\n"
   ]
  },
  {
   "cell_type": "code",
   "execution_count": 4,
   "metadata": {},
   "outputs": [],
   "source": [
    "def make_game(size=3):\n",
    "    Tic_Tac_Toe=[[0]*size for i in range(size)]\n",
    "    return Tic_Tac_Toe"
   ]
  },
  {
   "cell_type": "code",
   "execution_count": 5,
   "metadata": {},
   "outputs": [
    {
     "data": {
      "text/plain": [
       "[[0, 0, 0], [0, 0, 0], [0, 0, 0]]"
      ]
     },
     "execution_count": 5,
     "metadata": {},
     "output_type": "execute_result"
    }
   ],
   "source": [
    "game=make_game(3)\n",
    "game"
   ]
  },
  {
   "cell_type": "markdown",
   "metadata": {},
   "source": [
    "*Exercise 2:* Write a function that takes 2 integers `n` and `m` as input and draws a `n` by `m` game board. For example the following is a 3x3 board:\n",
    "```\n",
    "   --- --- --- \n",
    "  |   |   |   | \n",
    "   --- --- ---  \n",
    "  |   |   |   | \n",
    "   --- --- ---  \n",
    "  |   |   |   | \n",
    "   --- --- --- \n",
    "   ```"
   ]
  },
  {
   "cell_type": "code",
   "execution_count": 6,
   "metadata": {},
   "outputs": [],
   "source": [
    "def draw_board(n,m):\n",
    "    for i in range(n):\n",
    "        print(\"---\"*m)\n",
    "        print(\"|  \"*(m+1))\n",
    "    print(\"---\"*m)"
   ]
  },
  {
   "cell_type": "code",
   "execution_count": 7,
   "metadata": {},
   "outputs": [
    {
     "name": "stdout",
     "output_type": "stream",
     "text": [
      "---------\n",
      "|  |  |  |  \n",
      "---------\n",
      "|  |  |  |  \n",
      "---------\n",
      "|  |  |  |  \n",
      "---------\n"
     ]
    }
   ],
   "source": [
    "draw_board(3,3)"
   ]
  },
  {
   "cell_type": "markdown",
   "metadata": {},
   "source": [
    "*Exercise 3:* Modify exercise 2, so that it takes a matrix of the form from exercise 1 and draws a tic-tac-tie board with \"X\"s and \"O\"s.  "
   ]
  },
  {
   "cell_type": "code",
   "execution_count": 8,
   "metadata": {},
   "outputs": [],
   "source": [
    "def draw_tic_tac_toe(matrix):\n",
    "    l = len(matrix)\n",
    "\n",
    "    for i in range(l):\n",
    "        if i!=0:\n",
    "            print(\"\\n----------\")\n",
    "        for j in range(l):\n",
    "            var = matrix[i][j]\n",
    "            if var == 1:\n",
    "                var = \"X\"\n",
    "            if var == 2:\n",
    "                var = \"O\"\n",
    "            if var == 0:\n",
    "                var = \" \"\n",
    "            if j!=0:\n",
    "                print(\"| \"+var+\" \",end=\"\")\n",
    "            if j==0:\n",
    "                print(\" \"+var,end=\"\")"
   ]
  },
  {
   "cell_type": "code",
   "execution_count": 17,
   "metadata": {},
   "outputs": [
    {
     "name": "stdout",
     "output_type": "stream",
     "text": [
      " X| O |   \n",
      "----------\n",
      " O| X |   \n",
      "----------\n",
      " O| X | O "
     ]
    }
   ],
   "source": [
    "draw_tic_tac_toe(no_winner)"
   ]
  },
  {
   "cell_type": "markdown",
   "metadata": {},
   "source": [
    "*Exercise 4:* Write a function that takes a `n` by `n` matrix representing a tic-tac-toe game, and returns -1, 0, 1, or 2 indicating the game is incomplete, the game is a draw, player 1 has won, or player 2 has one, respectively. Here are some example inputs you can use to test your code:"
   ]
  },
  {
   "cell_type": "code",
   "execution_count": 10,
   "metadata": {},
   "outputs": [],
   "source": [
    "#return n row of a matrix\n",
    "def get_row(m,n): #m is the matrix and n is the row you want\n",
    "    row=m[:][n]\n",
    "    return row\n",
    "\n",
    "#return n column of a matrix\n",
    "def get_column(m,n):\n",
    "    return list(map(lambda x : x[n], m))\n",
    "\n",
    "#return both the diagonals\n",
    "def get_diagonals(m):\n",
    "    dia_1=[]\n",
    "    dia_2=[]\n",
    "    dia_1=[m[i][i] for i in range (len(m))]\n",
    "    dia_2=[m[i][len(m)-1-i] for i in range (len(m))]\n",
    "    return dia_1, dia_2"
   ]
  },
  {
   "cell_type": "code",
   "execution_count": 14,
   "metadata": {},
   "outputs": [],
   "source": [
    "def compare_1(lst):\n",
    "    count_1=0\n",
    "    for i in range(len(lst)):\n",
    "        if lst[i]==1:\n",
    "            count_1=count_1 + 1\n",
    "    if count_1==3:\n",
    "        return True\n",
    "    else:\n",
    "        return False\n",
    "\n",
    "def compare_2(lst):\n",
    "    count_2=0\n",
    "    for i in range(len(lst)):\n",
    "        if lst[i]==2:\n",
    "            count_2=count_2 + 2\n",
    "    if count_2==6:\n",
    "        return True\n",
    "    else:\n",
    "        return False\n",
    "\n",
    "#returns the state of the game\n",
    "def game_result(matrix):\n",
    "    counter=0\n",
    "    diagonal_1, diagonal_2 = get_diagonals(matrix)\n",
    "    #check incomplete\n",
    "\n",
    "    count_moves = 0\n",
    "    for i in range(len(matrix)):\n",
    "        row=get_row(matrix,i)\n",
    "        for j in range(len(row)):\n",
    "            if row[j] == 1 or row[j] == 2:\n",
    "                count_moves = count_moves + 1\n",
    "    if count_moves < 5:\n",
    "        return -1 #returns incomplete\n",
    "\n",
    "    elif count_moves>=5:\n",
    "        if compare_1(diagonal_1) == True or compare_1(diagonal_2) == True:\n",
    "            return 1\n",
    "        elif compare_2(diagonal_1) == True or compare_1(diagonal_2) == True:\n",
    "            return 2\n",
    "        for x in range(len(matrix)):\n",
    "            row = get_row(matrix,x)\n",
    "            for y in range(len(row)):\n",
    "                if row[y]==1 or row[y]==2:\n",
    "                    counter=counter+1\n",
    "            column = get_column(matrix,x)\n",
    "            if compare_1(row) == True or compare_1(column) == True:\n",
    "                return 1\n",
    "            elif compare_2(row) == True or compare_2(column) == True:\n",
    "                return 2\n",
    "        if counter==9:\n",
    "            return 0\n",
    "        else:\n",
    "            return -1 #returns incomplete"
   ]
  },
  {
   "cell_type": "code",
   "execution_count": 15,
   "metadata": {},
   "outputs": [],
   "source": [
    "winner_is_2 = [[2, 2, 0],\n",
    "\t[2, 1, 0],\n",
    "\t[2, 1, 1]]\n",
    "\n",
    "winner_is_1 = [[1, 2, 0],\n",
    "\t[2, 1, 0],\n",
    "\t[2, 1, 1]]\n",
    "\n",
    "winner_is_also_1 = [[0, 1, 0],\n",
    "\t[2, 1, 0],\n",
    "\t[2, 1, 1]]\n",
    "\n",
    "no_winner = [[1, 2, 0],\n",
    "\t[2, 1, 0],\n",
    "\t[2, 1, 2]]\n",
    "\n",
    "also_no_winner = [[1, 2, 0],\n",
    "\t[2, 1, 0],\n",
    "\t[2, 1, 0]]"
   ]
  },
  {
   "cell_type": "code",
   "execution_count": 16,
   "metadata": {},
   "outputs": [
    {
     "name": "stdout",
     "output_type": "stream",
     "text": [
      "-1\n"
     ]
    }
   ],
   "source": [
    "print(game_result(no_winner))"
   ]
  },
  {
   "cell_type": "markdown",
   "metadata": {},
   "source": [
    "*Exercise 5:* Write a function that takes a game board, player number, and `(x,y)` coordinates and places \"X\" or \"O\" in the correct location of the game board. Make sure that you only allow filling previously empty locations. Return `True` or `False` to indicate successful placement of \"X\" or \"O\"."
   ]
  },
  {
   "cell_type": "code",
   "execution_count": 19,
   "metadata": {},
   "outputs": [],
   "source": [
    "def place_on_board(matrix,player_number,x_coordinate,y_coordinate):\n",
    "    player_1_piece = \"X\"\n",
    "    player_2_piece = \"O\"\n",
    "    empty_space= \" \"\n",
    "    if matrix[x_coordinate][y_coordinate]!=0:\n",
    "        return False\n",
    "    elif player_number == 1:\n",
    "        matrix[x_coordinate][y_coordinate]=1\n",
    "        return True\n",
    "    elif player_number == 2:\n",
    "        matrix[x_coordinate][y_coordinate]=2\n",
    "        return True"
   ]
  },
  {
   "cell_type": "code",
   "execution_count": 20,
   "metadata": {},
   "outputs": [
    {
     "name": "stdout",
     "output_type": "stream",
     "text": [
      "  |   |   \n",
      "----------\n",
      "  |   | O \n",
      "----------\n",
      "  |   |   "
     ]
    }
   ],
   "source": [
    "board=make_game()\n",
    "place_on_board(board,2,1,2)\n",
    "draw_tic_tac_toe(board)"
   ]
  },
  {
   "cell_type": "markdown",
   "metadata": {},
   "source": [
    "*Exercise 6:* Modify Exercise 4 to show column and row labels so that players can specify location using \"A2\" or \"C1\"."
   ]
  },
  {
   "cell_type": "code",
   "execution_count": 26,
   "metadata": {},
   "outputs": [],
   "source": [
    "def draw_tic_tac_toe_updated(matrix):\n",
    "    l = len(matrix)\n",
    "    print(\" 1  2  3\")\n",
    "    for i in range(l):\n",
    "        if i!=0:\n",
    "            print(\"\\n ----------\")\n",
    "        for j in range(l):\n",
    "            var = matrix[i][j]\n",
    "            if var == 1:\n",
    "                var = \"X\"\n",
    "            if var == 2:\n",
    "                var = \"O\"\n",
    "            if var == 0:\n",
    "                var = \" \"\n",
    "            if i==0 and j==0:\n",
    "                print(\"A\", end=\"\")\n",
    "            if i==1 and j==0:\n",
    "                print(\"B\", end=\"\")\n",
    "            if i==2 and j==0:\n",
    "                print(\"C\", end=\"\")\n",
    "            if j!=0:\n",
    "                print(\"| \"+var+\" \",end=\"\")\n",
    "            if j==0:\n",
    "                print(\" \"+var,end=\"\")"
   ]
  },
  {
   "cell_type": "code",
   "execution_count": 25,
   "metadata": {},
   "outputs": [
    {
     "name": "stdout",
     "output_type": "stream",
     "text": [
      " 1 2 3\n",
      "A X| O |   \n",
      " ----------\n",
      "B O| X |   \n",
      " ----------\n",
      "C O| X | O "
     ]
    }
   ],
   "source": [
    "draw_tic_tac_toe_updated(no_winner)"
   ]
  },
  {
   "cell_type": "markdown",
   "metadata": {},
   "source": [
    "*Exercise 7:* Write a function that takes a board, player number, and location specified as in exercise 6 and then calls exercise 5 to correctly modify the board.  "
   ]
  },
  {
   "cell_type": "code",
   "execution_count": 39,
   "metadata": {},
   "outputs": [],
   "source": [
    "def Make_Move(matrix, player_number, location):\n",
    "    column_labels = ['A', 'B', 'C']\n",
    "    column = column_labels.index(location[0].upper())\n",
    "    row = int(location[1]) - 1\n",
    "\n",
    "    if column in range(3) and row in range(3):\n",
    "        success = on_board(matrix, player_number, row, column)\n",
    "        if success:\n",
    "            return True\n",
    "        else:\n",
    "            print(\"Invalid move. Please try again.\")\n",
    "            return False\n",
    "    else:\n",
    "        print(\"Invalid location. Please enter a location like 'A1', 'B2', or 'C3'.\")\n",
    "        return False\n",
    "\n",
    "def print_board(matrix):\n",
    "    print(\"  A   B   C\")\n",
    "    for i in range(3):\n",
    "        print(i + 1, end=\"  \")\n",
    "        for j in range(3):\n",
    "            print(matrix[i][j], end=\"  \")\n",
    "        print(\"\\n\")"
   ]
  },
  {
   "cell_type": "code",
   "execution_count": 40,
   "metadata": {},
   "outputs": [
    {
     "name": "stdout",
     "output_type": "stream",
     "text": [
      "  A   B   C\n",
      "1           \n",
      "\n",
      "2           \n",
      "\n",
      "3           \n",
      "\n",
      "  A   B   C\n",
      "1  X        \n",
      "\n",
      "2           \n",
      "\n",
      "3           \n",
      "\n",
      "  A   B   C\n",
      "1           \n",
      "\n",
      "2           \n",
      "\n",
      "3           \n",
      "\n",
      "  A   B   C\n",
      "1  X        \n",
      "\n",
      "2           \n",
      "\n",
      "3           \n",
      "\n"
     ]
    }
   ],
   "source": [
    "board = [[' ', ' ', ' '], [' ', ' ', ' '], [' ', ' ', ' ']]\n",
    "print_board(board)\n",
    "\n",
    "Make_Move(board, 1, 'A1')\n",
    "print_board(board)\n",
    "\n",
    "board = [[' ', ' ', ' '], [' ', ' ', ' '], [' ', ' ', ' ']]\n",
    "print_board(board)\n",
    "\n",
    "Make_Move(board, 1, 'A1')\n",
    "print_board(board)"
   ]
  },
  {
   "cell_type": "markdown",
   "metadata": {},
   "source": [
    "*Exercise 8:* Write a function is called with a board and player number, takes input from the player using python's `input`, and modifies the board using your function from exercise 7. Note that you should keep asking for input until you have gotten a valid input that results in a valid move."
   ]
  },
  {
   "cell_type": "code",
   "execution_count": null,
   "metadata": {},
   "outputs": [
    {
     "name": "stdout",
     "output_type": "stream",
     "text": [
      "  A   B   C\n",
      "1           \n",
      "\n",
      "2           \n",
      "\n",
      "3           \n",
      "\n"
     ]
    }
   ],
   "source": [
    "def get_player_move(board, player_number):\n",
    "    while True:\n",
    "        try:\n",
    "            location = input(f\"Player {player_number}, enter your move (e.g., 'A1', 'B2', 'C3'): \").strip().upper()\n",
    "\n",
    "            if len(location) != 2 or location[0] not in 'ABC' or location[1] not in '123':\n",
    "                raise ValueError(\"Invalid input. Please enter a valid location like 'A1', 'B2', or 'C3'.\")\n",
    "\n",
    "            if Make_Move(board, player_number, location):\n",
    "                break\n",
    "            else:\n",
    "                print(\"Invalid move. Please try again.\")\n",
    "\n",
    "        except ValueError as e:\n",
    "            print(str(e))\n",
    "\n",
    "board = [[' ', ' ', ' '], [' ', ' ', ' '], [' ', ' ', ' ']]\n",
    "print_board(board)\n",
    "\n",
    "for turn in range(9):\n",
    "    player_number = 1 if turn % 2 == 0 else 2\n",
    "    get_player_move(board, player_number)\n",
    "    print_board(board)"
   ]
  },
  {
   "cell_type": "markdown",
   "metadata": {},
   "source": [
    "*Exercise 9:* Use all of the previous exercises to implement a full tic-tac-toe game, where an appropriate board is drawn, 2 players are repeatedly asked for a location coordinates of where they wish to place a mark, and the game status is checked until a player wins or a draw occurs."
   ]
  },
  {
   "cell_type": "code",
   "execution_count": 41,
   "metadata": {},
   "outputs": [
    {
     "name": "stdout",
     "output_type": "stream",
     "text": [
      "Welcome to Tic-Tac-Toe!\n",
      "  A   B   C\n",
      "1           \n",
      "\n",
      "2           \n",
      "\n",
      "3           \n",
      "\n",
      "Player 1, it's your turn.\n"
     ]
    },
    {
     "name": "stdin",
     "output_type": "stream",
     "text": [
      "Enter your move (e.g.,'A1', 'B2', 'C3'):  A1\n"
     ]
    },
    {
     "name": "stdout",
     "output_type": "stream",
     "text": [
      "  A   B   C\n",
      "1  X        \n",
      "\n",
      "2           \n",
      "\n",
      "3           \n",
      "\n",
      "Player 2, it's your turn.\n"
     ]
    },
    {
     "name": "stdin",
     "output_type": "stream",
     "text": [
      "Enter your move (e.g.,'A1', 'B2', 'C3'):  b2\n"
     ]
    },
    {
     "name": "stdout",
     "output_type": "stream",
     "text": [
      "  A   B   C\n",
      "1  X        \n",
      "\n",
      "2     O     \n",
      "\n",
      "3           \n",
      "\n",
      "Player 1, it's your turn.\n"
     ]
    },
    {
     "name": "stdin",
     "output_type": "stream",
     "text": [
      "Enter your move (e.g.,'A1', 'B2', 'C3'):  b1\n"
     ]
    },
    {
     "name": "stdout",
     "output_type": "stream",
     "text": [
      "  A   B   C\n",
      "1  X  X     \n",
      "\n",
      "2     O     \n",
      "\n",
      "3           \n",
      "\n",
      "Player 2, it's your turn.\n"
     ]
    },
    {
     "name": "stdin",
     "output_type": "stream",
     "text": [
      "Enter your move (e.g.,'A1', 'B2', 'C3'):  c3\n"
     ]
    },
    {
     "name": "stdout",
     "output_type": "stream",
     "text": [
      "  A   B   C\n",
      "1  X  X     \n",
      "\n",
      "2     O     \n",
      "\n",
      "3        O  \n",
      "\n",
      "Player 1, it's your turn.\n"
     ]
    },
    {
     "name": "stdin",
     "output_type": "stream",
     "text": [
      "Enter your move (e.g.,'A1', 'B2', 'C3'):  c1\n"
     ]
    },
    {
     "name": "stdout",
     "output_type": "stream",
     "text": [
      "  A   B   C\n",
      "1  X  X  X  \n",
      "\n",
      "2     O     \n",
      "\n",
      "3        O  \n",
      "\n",
      "Player 1 wins! Congratulations!\n"
     ]
    }
   ],
   "source": [
    "def check_winner(board):\n",
    "    for i in range(3):\n",
    "        if board[i][0] == board[i][1] == board[i][2] != ' ':\n",
    "            return True\n",
    "        if board[0][i] == board[1][i] == board[2][i] != ' ':\n",
    "            return True\n",
    "    if board [0][0] == board[1][1] == board[2][2] != ' ':\n",
    "        return True\n",
    "    if board [0][2] == board[1][1] == board[2][0] != ' ':\n",
    "        return True\n",
    "    return False\n",
    "\n",
    "def is_draw(board):\n",
    "    for row in board:\n",
    "        if ' ' in row:\n",
    "            return False\n",
    "    return True\n",
    "\n",
    "def play_tic_tac_toe():\n",
    "    board = [[' ', ' ', ' '], [' ', ' ',' '], [' ', ' ', ' ']]\n",
    "    print(\"Welcome to Tic-Tac-Toe!\")\n",
    "\n",
    "    for turn in range(9):\n",
    "        player_number = 1 if turn % 2 == 0 else 2\n",
    "        print_board(board)\n",
    "        print(f\"Player {player_number}, it's your turn.\")\n",
    "\n",
    "        while True:\n",
    "            try:\n",
    "                location = input(f\"Enter your move (e.g.,'A1', 'B2', 'C3'): \").strip().upper()\n",
    "                \n",
    "                if len(location) != 2 or location[0] not in 'ABC' or location[1] not in '123':\n",
    "                    raise ValueError(\"Invalid input. Please enter a valid location like 'A1', 'B2', or 'C3'.\")\n",
    "\n",
    "                if Make_Move(board, player_number, location):\n",
    "                    break\n",
    "                else:\n",
    "                    print(\"Invalid move. Please try again.\")\n",
    "            except ValueError as e:\n",
    "                print(str(e))\n",
    "\n",
    "        if check_winner(board):\n",
    "            print_board(board)\n",
    "            print(f\"Player {player_number} wins! Congratulations!\")\n",
    "            break\n",
    "        elif is_draw(board):\n",
    "            print_board(board)\n",
    "            print(\"It's a draw!\")\n",
    "            break\n",
    "\n",
    "if __name__ == \"__main__\":\n",
    "    play_tic_tac_toe()"
   ]
  },
  {
   "cell_type": "code",
   "execution_count": null,
   "metadata": {
    "collapsed": true,
    "jupyter": {
     "outputs_hidden": true
    }
   },
   "outputs": [],
   "source": [
    "# Test your solution here"
   ]
  },
  {
   "cell_type": "markdown",
   "metadata": {},
   "source": [
    "*Exercise 10:* Test that your game works for 5x5 Tic Tac Toe.  "
   ]
  },
  {
   "cell_type": "code",
   "execution_count": 3,
   "metadata": {},
   "outputs": [
    {
     "name": "stdout",
     "output_type": "stream",
     "text": [
      "  |   |   |   |  \n",
      "-------------------\n",
      "  |   |   |   |  \n",
      "-------------------\n",
      "  |   |   |   |  \n",
      "-------------------\n",
      "  |   |   |   |  \n",
      "-------------------\n",
      "  |   |   |   |  \n",
      "-------------------\n"
     ]
    },
    {
     "name": "stdin",
     "output_type": "stream",
     "text": [
      "Player X, enter row (1-5):  5\n",
      "Player X, enter column (1-5):  2\n"
     ]
    },
    {
     "name": "stdout",
     "output_type": "stream",
     "text": [
      "  |   |   |   |  \n",
      "-------------------\n",
      "  |   |   |   |  \n",
      "-------------------\n",
      "  |   |   |   |  \n",
      "-------------------\n",
      "  |   |   |   |  \n",
      "-------------------\n",
      "  | X |   |   |  \n",
      "-------------------\n"
     ]
    },
    {
     "name": "stdin",
     "output_type": "stream",
     "text": [
      "Player O, enter row (1-5):  4\n",
      "Player O, enter column (1-5):  3\n"
     ]
    },
    {
     "name": "stdout",
     "output_type": "stream",
     "text": [
      "  |   |   |   |  \n",
      "-------------------\n",
      "  |   |   |   |  \n",
      "-------------------\n",
      "  |   |   |   |  \n",
      "-------------------\n",
      "  |   | O |   |  \n",
      "-------------------\n",
      "  | X |   |   |  \n",
      "-------------------\n"
     ]
    },
    {
     "name": "stdin",
     "output_type": "stream",
     "text": [
      "Player X, enter row (1-5):  1\n",
      "Player X, enter column (1-5):  1\n"
     ]
    },
    {
     "name": "stdout",
     "output_type": "stream",
     "text": [
      "X |   |   |   |  \n",
      "-------------------\n",
      "  |   |   |   |  \n",
      "-------------------\n",
      "  |   |   |   |  \n",
      "-------------------\n",
      "  |   | O |   |  \n",
      "-------------------\n",
      "  | X |   |   |  \n",
      "-------------------\n"
     ]
    },
    {
     "name": "stdin",
     "output_type": "stream",
     "text": [
      "Player O, enter row (1-5):  2\n",
      "Player O, enter column (1-5):  2\n"
     ]
    },
    {
     "name": "stdout",
     "output_type": "stream",
     "text": [
      "X |   |   |   |  \n",
      "-------------------\n",
      "  | O |   |   |  \n",
      "-------------------\n",
      "  |   |   |   |  \n",
      "-------------------\n",
      "  |   | O |   |  \n",
      "-------------------\n",
      "  | X |   |   |  \n",
      "-------------------\n"
     ]
    },
    {
     "name": "stdin",
     "output_type": "stream",
     "text": [
      "Player X, enter row (1-5):  1\n",
      "Player X, enter column (1-5):  2\n"
     ]
    },
    {
     "name": "stdout",
     "output_type": "stream",
     "text": [
      "X | X |   |   |  \n",
      "-------------------\n",
      "  | O |   |   |  \n",
      "-------------------\n",
      "  |   |   |   |  \n",
      "-------------------\n",
      "  |   | O |   |  \n",
      "-------------------\n",
      "  | X |   |   |  \n",
      "-------------------\n"
     ]
    },
    {
     "name": "stdin",
     "output_type": "stream",
     "text": [
      "Player O, enter row (1-5):  1\n",
      "Player O, enter column (1-5):  4\n"
     ]
    },
    {
     "name": "stdout",
     "output_type": "stream",
     "text": [
      "X | X |   | O |  \n",
      "-------------------\n",
      "  | O |   |   |  \n",
      "-------------------\n",
      "  |   |   |   |  \n",
      "-------------------\n",
      "  |   | O |   |  \n",
      "-------------------\n",
      "  | X |   |   |  \n",
      "-------------------\n"
     ]
    },
    {
     "name": "stdin",
     "output_type": "stream",
     "text": [
      "Player X, enter row (1-5):  5\n",
      "Player X, enter column (1-5):  1\n"
     ]
    },
    {
     "name": "stdout",
     "output_type": "stream",
     "text": [
      "X | X |   | O |  \n",
      "-------------------\n",
      "  | O |   |   |  \n",
      "-------------------\n",
      "  |   |   |   |  \n",
      "-------------------\n",
      "  |   | O |   |  \n",
      "-------------------\n",
      "X | X |   |   |  \n",
      "-------------------\n"
     ]
    },
    {
     "name": "stdin",
     "output_type": "stream",
     "text": [
      "Player O, enter row (1-5):  2\n",
      "Player O, enter column (1-5):  3\n"
     ]
    },
    {
     "name": "stdout",
     "output_type": "stream",
     "text": [
      "X | X |   | O |  \n",
      "-------------------\n",
      "  | O | O |   |  \n",
      "-------------------\n",
      "  |   |   |   |  \n",
      "-------------------\n",
      "  |   | O |   |  \n",
      "-------------------\n",
      "X | X |   |   |  \n",
      "-------------------\n"
     ]
    },
    {
     "name": "stdin",
     "output_type": "stream",
     "text": [
      "Player X, enter row (1-5):  4\n",
      "Player X, enter column (1-5):  1\n"
     ]
    },
    {
     "name": "stdout",
     "output_type": "stream",
     "text": [
      "X | X |   | O |  \n",
      "-------------------\n",
      "  | O | O |   |  \n",
      "-------------------\n",
      "  |   |   |   |  \n",
      "-------------------\n",
      "X |   | O |   |  \n",
      "-------------------\n",
      "X | X |   |   |  \n",
      "-------------------\n"
     ]
    },
    {
     "name": "stdin",
     "output_type": "stream",
     "text": [
      "Player O, enter row (1-5):  2\n",
      "Player O, enter column (1-5):  4\n"
     ]
    },
    {
     "name": "stdout",
     "output_type": "stream",
     "text": [
      "X | X |   | O |  \n",
      "-------------------\n",
      "  | O | O | O |  \n",
      "-------------------\n",
      "  |   |   |   |  \n",
      "-------------------\n",
      "X |   | O |   |  \n",
      "-------------------\n",
      "X | X |   |   |  \n",
      "-------------------\n"
     ]
    },
    {
     "name": "stdin",
     "output_type": "stream",
     "text": [
      "Player X, enter row (1-5):  2\n",
      "Player X, enter column (1-5):  3\n"
     ]
    },
    {
     "name": "stdout",
     "output_type": "stream",
     "text": [
      "Invalid move. Please try again.\n",
      "X | X |   | O |  \n",
      "-------------------\n",
      "  | O | O | O |  \n",
      "-------------------\n",
      "  |   |   |   |  \n",
      "-------------------\n",
      "X |   | O |   |  \n",
      "-------------------\n",
      "X | X |   |   |  \n",
      "-------------------\n"
     ]
    },
    {
     "name": "stdin",
     "output_type": "stream",
     "text": [
      "Player X, enter row (1-5):  2\n",
      "Player X, enter column (1-5):  1\n"
     ]
    },
    {
     "name": "stdout",
     "output_type": "stream",
     "text": [
      "X | X |   | O |  \n",
      "-------------------\n",
      "X | O | O | O |  \n",
      "-------------------\n",
      "  |   |   |   |  \n",
      "-------------------\n",
      "X |   | O |   |  \n",
      "-------------------\n",
      "X | X |   |   |  \n",
      "-------------------\n"
     ]
    },
    {
     "name": "stdin",
     "output_type": "stream",
     "text": [
      "Player O, enter row (1-5):  3\n",
      "Player O, enter column (1-5):  3\n"
     ]
    },
    {
     "name": "stdout",
     "output_type": "stream",
     "text": [
      "X | X |   | O |  \n",
      "-------------------\n",
      "X | O | O | O |  \n",
      "-------------------\n",
      "  |   | O |   |  \n",
      "-------------------\n",
      "X |   | O |   |  \n",
      "-------------------\n",
      "X | X |   |   |  \n",
      "-------------------\n"
     ]
    },
    {
     "name": "stdin",
     "output_type": "stream",
     "text": [
      "Player X, enter row (1-5):  3\n",
      "Player X, enter column (1-5):  1\n"
     ]
    },
    {
     "name": "stdout",
     "output_type": "stream",
     "text": [
      "X | X |   | O |  \n",
      "-------------------\n",
      "X | O | O | O |  \n",
      "-------------------\n",
      "X |   | O |   |  \n",
      "-------------------\n",
      "X |   | O |   |  \n",
      "-------------------\n",
      "X | X |   |   |  \n",
      "-------------------\n",
      "Player X wins!\n"
     ]
    }
   ],
   "source": [
    "def print_board(board):\n",
    "    for row in board:\n",
    "        print(\" | \".join(row))\n",
    "        print(\"-\" * (5 * 4 - 1))\n",
    "\n",
    "def is_winner(board, player):\n",
    "    # Check rows, columns, and diagonals\n",
    "    for i in range(5):\n",
    "        if all(board[i][j] == player for j in range(5)) or \\\n",
    "           all(board[j][i] == player for j in range(5)):\n",
    "            return True\n",
    "\n",
    "    if all(board[i][i] == player for i in range(5)) or \\\n",
    "       all(board[i][4 - i] == player for i in range(5)):\n",
    "        return True\n",
    "\n",
    "    return False\n",
    "\n",
    "def is_board_full(board):\n",
    "    return all(board[i][j] != ' ' for i in range(5) for j in range(5))\n",
    "\n",
    "def play_game():\n",
    "    board = [[' ' for _ in range(5)] for _ in range(5)]\n",
    "    current_player = 'X'\n",
    "\n",
    "    while True:\n",
    "        print_board(board)\n",
    "\n",
    "        row = int(input(f\"Player {current_player}, enter row (1-5): \")) - 1\n",
    "        col = int(input(f\"Player {current_player}, enter column (1-5): \")) - 1\n",
    "\n",
    "        if 0 <= row < 5 and 0 <= col < 5 and board[row][col] == ' ':\n",
    "            board[row][col] = current_player\n",
    "            if is_winner(board, current_player):\n",
    "                print_board(board)\n",
    "                print(f\"Player {current_player} wins!\")\n",
    "                break\n",
    "            elif is_board_full(board):\n",
    "                print_board(board)\n",
    "                print(\"It's a tie!\")\n",
    "                break\n",
    "            else:\n",
    "                current_player = 'O' if current_player == 'X' else 'X'\n",
    "        else:\n",
    "            print(\"Invalid move. Please try again.\")\n",
    "\n",
    "if __name__ == \"__main__\":\n",
    "    play_game()"
   ]
  },
  {
   "cell_type": "markdown",
   "metadata": {},
   "source": [
    "*Exercise 11:* (Advanced / Challenge) Develop a version of the game where one player is the computer. Note that you don't need to do an extensive seach for the best move. You can have the computer simply protect against loosing and otherwise try to win with straight or diagonal patterns."
   ]
  },
  {
   "cell_type": "code",
   "execution_count": 1,
   "metadata": {},
   "outputs": [
    {
     "name": "stdout",
     "output_type": "stream",
     "text": [
      "Welcome to 5x5 Tic-Tac-Toe with a computer player!\n",
      "   A   B   C   D   E\n",
      "1    |   |   |   |  \n",
      "  ---+---+---+---+---\n",
      "2    |   |   |   |  \n",
      "  ---+---+---+---+---\n",
      "3    |   |   |   |  \n",
      "  ---+---+---+---+---\n",
      "4    |   |   |   |  \n",
      "  ---+---+---+---+---\n",
      "5    |   |   |   |  \n",
      "Player 1, it's your turn.\n"
     ]
    },
    {
     "name": "stdin",
     "output_type": "stream",
     "text": [
      "Enter your move (e.g., 'A1', 'B2', 'C3'):  A2\n"
     ]
    },
    {
     "name": "stdout",
     "output_type": "stream",
     "text": [
      "Computer is making a move...\n",
      "   A   B   C   D   E\n",
      "1    |   |   |   |  \n",
      "  ---+---+---+---+---\n",
      "2  X |   |   | O |  \n",
      "  ---+---+---+---+---\n",
      "3    |   |   |   |  \n",
      "  ---+---+---+---+---\n",
      "4    |   |   |   |  \n",
      "  ---+---+---+---+---\n",
      "5    |   |   |   |  \n",
      "Player 1, it's your turn.\n"
     ]
    },
    {
     "name": "stdin",
     "output_type": "stream",
     "text": [
      "Enter your move (e.g., 'A1', 'B2', 'C3'):  b3\n"
     ]
    },
    {
     "name": "stdout",
     "output_type": "stream",
     "text": [
      "Computer is making a move...\n",
      "   A   B   C   D   E\n",
      "1    |   |   |   |  \n",
      "  ---+---+---+---+---\n",
      "2  X | O |   | O |  \n",
      "  ---+---+---+---+---\n",
      "3    | X |   |   |  \n",
      "  ---+---+---+---+---\n",
      "4    |   |   |   |  \n",
      "  ---+---+---+---+---\n",
      "5    |   |   |   |  \n",
      "Player 1, it's your turn.\n"
     ]
    },
    {
     "name": "stdin",
     "output_type": "stream",
     "text": [
      "Enter your move (e.g., 'A1', 'B2', 'C3'):  c5\n"
     ]
    },
    {
     "name": "stdout",
     "output_type": "stream",
     "text": [
      "Computer is making a move...\n",
      "   A   B   C   D   E\n",
      "1  O |   |   |   |  \n",
      "  ---+---+---+---+---\n",
      "2  X | O |   | O |  \n",
      "  ---+---+---+---+---\n",
      "3    | X |   |   |  \n",
      "  ---+---+---+---+---\n",
      "4    |   |   |   |  \n",
      "  ---+---+---+---+---\n",
      "5    |   | X |   |  \n",
      "Player 1, it's your turn.\n"
     ]
    },
    {
     "name": "stdin",
     "output_type": "stream",
     "text": [
      "Enter your move (e.g., 'A1', 'B2', 'C3'):  a5\n"
     ]
    },
    {
     "name": "stdout",
     "output_type": "stream",
     "text": [
      "Computer is making a move...\n",
      "   A   B   C   D   E\n",
      "1  O |   |   |   |  \n",
      "  ---+---+---+---+---\n",
      "2  X | O |   | O |  \n",
      "  ---+---+---+---+---\n",
      "3    | X |   |   |  \n",
      "  ---+---+---+---+---\n",
      "4    |   |   |   |  \n",
      "  ---+---+---+---+---\n",
      "5  X |   | X |   | O\n",
      "Player 1, it's your turn.\n"
     ]
    },
    {
     "name": "stdin",
     "output_type": "stream",
     "text": [
      "Enter your move (e.g., 'A1', 'B2', 'C3'):  a3\n"
     ]
    },
    {
     "name": "stdout",
     "output_type": "stream",
     "text": [
      "Computer is making a move...\n",
      "   A   B   C   D   E\n",
      "1  O |   |   | O |  \n",
      "  ---+---+---+---+---\n",
      "2  X | O |   | O |  \n",
      "  ---+---+---+---+---\n",
      "3  X | X |   |   |  \n",
      "  ---+---+---+---+---\n",
      "4    |   |   |   |  \n",
      "  ---+---+---+---+---\n",
      "5  X |   | X |   | O\n",
      "Player 1, it's your turn.\n"
     ]
    },
    {
     "name": "stdin",
     "output_type": "stream",
     "text": [
      "Enter your move (e.g., 'A1', 'B2', 'C3'):  a4\n"
     ]
    },
    {
     "name": "stdout",
     "output_type": "stream",
     "text": [
      "Computer is making a move...\n",
      "   A   B   C   D   E\n",
      "1  O |   |   | O |  \n",
      "  ---+---+---+---+---\n",
      "2  X | O |   | O |  \n",
      "  ---+---+---+---+---\n",
      "3  X | X |   |   | O\n",
      "  ---+---+---+---+---\n",
      "4  X |   |   |   |  \n",
      "  ---+---+---+---+---\n",
      "5  X |   | X |   | O\n",
      "Player 1, it's your turn.\n"
     ]
    },
    {
     "name": "stdin",
     "output_type": "stream",
     "text": [
      "Enter your move (e.g., 'A1', 'B2', 'C3'):  b4\n"
     ]
    },
    {
     "name": "stdout",
     "output_type": "stream",
     "text": [
      "Computer is making a move...\n",
      "   A   B   C   D   E\n",
      "1  O | O |   | O |  \n",
      "  ---+---+---+---+---\n",
      "2  X | O |   | O |  \n",
      "  ---+---+---+---+---\n",
      "3  X | X |   |   | O\n",
      "  ---+---+---+---+---\n",
      "4  X | X |   |   |  \n",
      "  ---+---+---+---+---\n",
      "5  X |   | X |   | O\n",
      "Player 1, it's your turn.\n"
     ]
    },
    {
     "name": "stdin",
     "output_type": "stream",
     "text": [
      "Enter your move (e.g., 'A1', 'B2', 'C3'):  c4\n"
     ]
    },
    {
     "name": "stdout",
     "output_type": "stream",
     "text": [
      "Computer is making a move...\n",
      "   A   B   C   D   E\n",
      "1  O | O |   | O |  \n",
      "  ---+---+---+---+---\n",
      "2  X | O |   | O |  \n",
      "  ---+---+---+---+---\n",
      "3  X | X |   |   | O\n",
      "  ---+---+---+---+---\n",
      "4  X | X | X |   |  \n",
      "  ---+---+---+---+---\n",
      "5  X |   | X | O | O\n",
      "Player 1, it's your turn.\n"
     ]
    },
    {
     "name": "stdin",
     "output_type": "stream",
     "text": [
      "Enter your move (e.g., 'A1', 'B2', 'C3'):  d4\n"
     ]
    },
    {
     "name": "stdout",
     "output_type": "stream",
     "text": [
      "Computer is making a move...\n",
      "   A   B   C   D   E\n",
      "1  O | O |   | O |  \n",
      "  ---+---+---+---+---\n",
      "2  X | O |   | O |  \n",
      "  ---+---+---+---+---\n",
      "3  X | X | O |   | O\n",
      "  ---+---+---+---+---\n",
      "4  X | X | X | X |  \n",
      "  ---+---+---+---+---\n",
      "5  X |   | X | O | O\n",
      "Player 1, it's your turn.\n"
     ]
    },
    {
     "name": "stdin",
     "output_type": "stream",
     "text": [
      "Enter your move (e.g., 'A1', 'B2', 'C3'):  e4\n"
     ]
    },
    {
     "name": "stdout",
     "output_type": "stream",
     "text": [
      "   A   B   C   D   E\n",
      "1  O | O |   | O |  \n",
      "  ---+---+---+---+---\n",
      "2  X | O |   | O |  \n",
      "  ---+---+---+---+---\n",
      "3  X | X | O |   | O\n",
      "  ---+---+---+---+---\n",
      "4  X | X | X | X | X\n",
      "  ---+---+---+---+---\n",
      "5  X |   | X | O | O\n",
      "Player 1 wins! Congratulations!\n"
     ]
    }
   ],
   "source": [
    "import random\n",
    "\n",
    "\n",
    "def print_board(board):\n",
    "    print(\"   A   B   C   D   E\")\n",
    "    for i in range(5):\n",
    "        print(f\"{i+1}  \", end=\"\")\n",
    "        for j in range(5):\n",
    "            print(board[i][j], end=\" | \" if j < 4 else \"\\n\")\n",
    "        if i < 4:\n",
    "            print(\"  ---+---+---+---+---\")\n",
    "\n",
    "def check_winner(board):\n",
    "    \n",
    "    for i in range(5):\n",
    "        if board[i][0] == board[i][1] == board[i][2] == board[i][3] == board[i][4] != ' ':\n",
    "            return True\n",
    "        if board[0][i] == board[1][i] == board[2][i] == board[3][i] == board[4][i] != ' ':\n",
    "            return True\n",
    "    if board[0][0] == board[1][1] == board[2][2] == board[3][3] == board[4][4] != ' ':\n",
    "        return True\n",
    "    if board[0][4] == board[1][3] == board[2][2] == board[3][1] == board[4][0] != ' ':\n",
    "        return True\n",
    "    return False\n",
    "\n",
    "def Make_Move(matrix, player_number, location):\n",
    "    \n",
    "    column_labels = ['A', 'B', 'C', 'D', 'E']\n",
    "    column = column_labels.index(location[0].upper())\n",
    "    row = int(location[1]) - 1\n",
    "\n",
    "    \n",
    "    if column in range(5) and row in range(5) and matrix[row][column] == ' ':\n",
    "        matrix[row][column] = 'X' if player_number == 1 else 'O'\n",
    "        return True\n",
    "    else:\n",
    "        return False\n",
    "\n",
    "\n",
    "def is_draw(board):\n",
    "    \n",
    "    for row in board:\n",
    "        if ' ' in row:\n",
    "            return False\n",
    "    return True\n",
    "\n",
    "def computer_move(board, player_number):\n",
    "    \n",
    "    for i in range(5):\n",
    "        for j in range(5):\n",
    "            if board[i][j] == ' ':\n",
    "                \n",
    "                board[i][j] = 'X' if player_number == 1 else 'O'\n",
    "                if check_winner(board):\n",
    "                    return\n",
    "                \n",
    "                board[i][j] = ' '\n",
    "    \n",
    " \n",
    "    while True:\n",
    "        row = random.randint(0, 4)\n",
    "        col = random.randint(0, 4)\n",
    "        if board[row][col] == ' ':\n",
    "            board[row][col] = 'X' if player_number == 1 else 'O'\n",
    "            return\n",
    "\n",
    "def play_tic_tac_toe_with_computer():\n",
    "    board = [[' ', ' ', ' ', ' ', ' '],\n",
    "             [' ', ' ', ' ', ' ', ' '],\n",
    "             [' ', ' ', ' ', ' ', ' '],\n",
    "             [' ', ' ', ' ', ' ', ' '],\n",
    "             [' ', ' ', ' ', ' ', ' ']]\n",
    "    print(\"Welcome to 5x5 Tic-Tac-Toe with a computer player!\")\n",
    "\n",
    "    \n",
    "    for turn in range(25):  \n",
    "        player_number = 1 if turn % 2 == 0 else 2\n",
    "\n",
    "        if player_number == 1:\n",
    "            print_board(board)\n",
    "            print(f\"Player {player_number}, it's your turn.\")\n",
    "            \n",
    "            while True:\n",
    "                try:\n",
    "                    \n",
    "                    location = input(f\"Enter your move (e.g., 'A1', 'B2', 'C3'): \").strip().upper()\n",
    "                    \n",
    "                    \n",
    "                    if len(location) != 2 or location[0] not in 'ABCDE' or location[1] not in '12345':\n",
    "                        raise ValueError(\"Invalid input. Please enter a valid location like 'A1', 'B2', or 'C3'.\")\n",
    "\n",
    "                    if Make_Move(board, player_number, location):\n",
    "                        break  \n",
    "                    else:\n",
    "                        print(\"Invalid move. Please try again.\")\n",
    "\n",
    "                except ValueError as e:\n",
    "                    print(str(e)) \n",
    "        else:\n",
    "            print(\"Computer is making a move...\")\n",
    "            computer_move(board, player_number)\n",
    "\n",
    "        \n",
    "        if check_winner(board):\n",
    "            print_board(board)\n",
    "            if player_number == 1:\n",
    "                print(\"Player 1 wins! Congratulations!\")\n",
    "            else:\n",
    "                print(\"Computer wins!\")\n",
    "            break\n",
    "        elif is_draw(board):\n",
    "            print_board(board)\n",
    "            print(\"It's a draw!\")\n",
    "            break\n",
    "\n",
    "if __name__ == \"__main__\":\n",
    "    play_tic_tac_toe_with_computer()"
   ]
  },
  {
   "cell_type": "code",
   "execution_count": null,
   "metadata": {},
   "outputs": [],
   "source": []
  }
 ],
 "metadata": {
  "kernelspec": {
   "display_name": "Python 3 (ipykernel)",
   "language": "python",
   "name": "python3"
  },
  "language_info": {
   "codemirror_mode": {
    "name": "ipython",
    "version": 3
   },
   "file_extension": ".py",
   "mimetype": "text/x-python",
   "name": "python",
   "nbconvert_exporter": "python",
   "pygments_lexer": "ipython3",
   "version": "3.10.12"
  }
 },
 "nbformat": 4,
 "nbformat_minor": 4
}
